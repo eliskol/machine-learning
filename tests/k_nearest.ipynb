{
 "cells": [
  {
   "cell_type": "code",
   "execution_count": 13,
   "metadata": {},
   "outputs": [],
   "source": [
    "import sys\n",
    "sys.path.insert(1, sys.path[0].replace('tests', 'src'))\n",
    "from k_nearest_neighbors import KNearestNeighborsClassifier\n",
    "import pandas as pd"
   ]
  },
  {
   "cell_type": "code",
   "execution_count": 14,
   "metadata": {},
   "outputs": [],
   "source": [
    "data = [['Shortbread',     0.14,       0.14,      0.28,     0.44],\n",
    "        ['Shortbread',     0.10,       0.18,      0.28,     0.44],\n",
    "        ['Shortbread',     0.12,       0.10,      0.33,     0.45],\n",
    "        ['Shortbread',     0.10,       0.25,      0.25,     0.40],\n",
    "        ['Sugar',     0.00,       0.10,      0.40,     0.50],\n",
    "        ['Sugar',     0.00,       0.20,      0.40,     0.40],\n",
    "        ['Sugar',     0.02,       0.08,      0.45,     0.45],\n",
    "        ['Sugar',     0.10,       0.15,      0.35,     0.40],\n",
    "        ['Sugar',     0.10,       0.08,      0.35,     0.47],\n",
    "        ['Sugar',     0.00,       0.05,      0.30,     0.65],\n",
    "        ['Fortune',     0.20,       0.00,      0.40,     0.40],\n",
    "        ['Fortune',     0.25,       0.10,      0.30,     0.35],\n",
    "        ['Fortune',     0.22,       0.15,      0.50,     0.13],\n",
    "        ['Fortune',     0.15,       0.20,      0.35,     0.30],\n",
    "        ['Fortune',     0.22,       0.00,      0.40,     0.38],\n",
    "        ['Shortbread',     0.05,       0.12,      0.28,     0.55],\n",
    "        ['Shortbread',     0.14,       0.27,      0.31,     0.28],\n",
    "        ['Shortbread',     0.15,       0.23,      0.30,     0.32],\n",
    "        ['Shortbread',     0.20,       0.10,      0.30,     0.40]]"
   ]
  },
  {
   "cell_type": "code",
   "execution_count": 15,
   "metadata": {},
   "outputs": [],
   "source": [
    "k_dict = {}\n",
    "for num_k in range(1, 19):\n",
    "    k_dict[num_k] = 0\n",
    "    knearest = KNearestNeighborsClassifier(num_k)\n",
    "    for i in range(len(data)):\n",
    "        current_point = data[i]\n",
    "        data.pop(i)\n",
    "        knearest.fit([row[1:] for row in data], [row[0] for row in data])\n",
    "        classification = knearest.classify(current_point[1:])\n",
    "        if classification == current_point[0]:\n",
    "            k_dict[num_k] += 1\n",
    "        data.insert(i, current_point)"
   ]
  },
  {
   "cell_type": "code",
   "execution_count": 22,
   "metadata": {},
   "outputs": [
    {
     "data": {
      "text/plain": [
       "<AxesSubplot:xlabel='k', ylabel='accuracy'>"
      ]
     },
     "execution_count": 22,
     "metadata": {},
     "output_type": "execute_result"
    },
    {
     "data": {
      "image/png": "[encoded data removed]",
      "text/plain": [
       "<Figure size 720x720 with 1 Axes>"
      ]
     },
     "metadata": {
      "needs_background": "light"
     },
     "output_type": "display_data"
    }
   ],
   "source": [
    "k_values = range(1, 19)\n",
    "accuracy = [k_dict[k] / 19 for k in k_values]\n",
    "k_df = pd.DataFrame({'k': k_values, 'accuracy': accuracy})\n",
    "k_df.plot(x='k', y='accuracy', figsize=(10, 10), kind=\"scatter\")"
   ]
  }
 ],
 "metadata": {
  "interpreter": {
   "hash": "8b8334dab9339717f727a1deaf837b322d7a41c20d15cc86be99a8e69ceec8ce"
  },
  "kernelspec": {
   "display_name": "Python 3.8.12 64-bit ('3.8.12')",
   "language": "python",
   "name": "python3"
  },
  "language_info": {
   "codemirror_mode": {
    "name": "ipython",
    "version": 3
   },
   "file_extension": ".py",
   "mimetype": "text/x-python",
   "name": "python",
   "nbconvert_exporter": "python",
   "pygments_lexer": "ipython3",
   "version": "3.8.12"
  },
  "orig_nbformat": 4
 },
 "nbformat": 4,
 "nbformat_minor": 2
}
