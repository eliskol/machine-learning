{
 "cells": [
  {
   "cell_type": "code",
   "execution_count": 65,
   "metadata": {},
   "outputs": [],
   "source": [
    "import pandas as pd\n",
    "import numpy as np\n",
    "import matplotlib"
   ]
  },
  {
   "cell_type": "code",
   "execution_count": 66,
   "metadata": {},
   "outputs": [],
   "source": [
    "import sys\n",
    "sys.path.insert(1, sys.path[0].replace('analysis', 'src'))\n",
    "from k_nearest_neighbors import KNearestNeighborsClassifier"
   ]
  },
  {
   "cell_type": "code",
   "execution_count": 67,
   "metadata": {},
   "outputs": [],
   "source": [
    "data_df = pd.read_csv('./book-data.csv')\n",
    "data_list = [[row[col] for col in data_df.columns]\n",
    "                     for row in data_df.to_dict('records')]\n",
    "classifications = [row[-1] for row in data_list]\n",
    "min_of_cols_by_index = {i: min([row[i] for row in data_list])\n",
    "                        for i in range(len(data_list[0]) - 1)}\n",
    "max_of_cols_by_index = {i: max([row[i]for row in data_list])\n",
    "                        for i in range(len(data_list[0]) - 1)}\n",
    "k_values = range(1, 100, 2)\n",
    "# for row in data_list:\n",
    "#     row.pop(-1)"
   ]
  },
  {
   "cell_type": "code",
   "execution_count": 68,
   "metadata": {},
   "outputs": [],
   "source": [
    "k_dict = {}\n",
    "for k in range(1, 100, 2):\n",
    "    k_dict[k] = 0\n",
    "    k_nearest = KNearestNeighborsClassifier(k)\n",
    "    for i in range(len(data_list)):\n",
    "        current_point = data_list[i]\n",
    "        data_list.pop(i)\n",
    "        k_nearest.fit([row[:-1] for row in data_list], [row[-1] for row in data_list])\n",
    "        classification = k_nearest.classify(current_point[:-1])\n",
    "        if classification == current_point[-1]:\n",
    "            k_dict[k] += 1\n",
    "        data_list.insert(i, current_point)"
   ]
  },
  {
   "cell_type": "code",
   "execution_count": 69,
   "metadata": {},
   "outputs": [],
   "source": [
    "unscaled_accuracy = [k_dict[k] / len(data_list) for k in k_values]"
   ]
  },
  {
   "cell_type": "code",
   "execution_count": 70,
   "metadata": {},
   "outputs": [],
   "source": [
    "simple_scaled_data = [[] for row in data_list]\n",
    "for i in range(len(data_list)):\n",
    "    current_row = data_list[i][:-1]\n",
    "    for j in range(len(current_row)):\n",
    "        max_of_current_col = max_of_cols_by_index[j]\n",
    "        current_row[j] = current_row[j] / max_of_current_col\n",
    "    simple_scaled_data[i] = current_row"
   ]
  },
  {
   "cell_type": "code",
   "execution_count": 71,
   "metadata": {},
   "outputs": [],
   "source": [
    "k_dict = {}\n",
    "for k in range(1, 100, 2):\n",
    "    k_dict[k] = 0\n",
    "    k_nearest = KNearestNeighborsClassifier(k)\n",
    "    for i in range(len(simple_scaled_data)):\n",
    "        current_point = simple_scaled_data[i]\n",
    "        simple_scaled_data.pop(i)\n",
    "        k_nearest.fit(simple_scaled_data, classifications)\n",
    "        classification = k_nearest.classify(current_point)\n",
    "        if classification == classifications[i]:\n",
    "            k_dict[k] += 1\n",
    "        simple_scaled_data.insert(i, current_point)\n",
    "\n",
    "simple_scaled_accuracy = [k_dict[k] / len(data_list) for k in k_values]"
   ]
  },
  {
   "cell_type": "code",
   "execution_count": 72,
   "metadata": {},
   "outputs": [],
   "source": [
    "min_maxed_data = [[] for row in data_list]\n",
    "\n",
    "for i in range(len(data_list)):\n",
    "    current_point = data_list[i][:-1]\n",
    "    for j in range(len(current_point)):\n",
    "        max_of_current_col = max_of_cols_by_index[j]\n",
    "        min_of_current_col = min_of_cols_by_index[j]\n",
    "        current_point[j] = (current_point[j] - min_of_current_col) / (max_of_current_col - min_of_current_col)\n",
    "    min_maxed_data[i] = current_point"
   ]
  },
  {
   "cell_type": "code",
   "execution_count": 73,
   "metadata": {},
   "outputs": [],
   "source": [
    "k_dict = {}\n",
    "for k in range(1, 100, 2):\n",
    "    k_dict[k] = 0\n",
    "    k_nearest = KNearestNeighborsClassifier(k)\n",
    "    for i in range(len(min_maxed_data)):\n",
    "        current_point = min_maxed_data[i]\n",
    "        min_maxed_data.pop(i)\n",
    "        k_nearest.fit(min_maxed_data, classifications)\n",
    "        classification = k_nearest.classify(current_point)\n",
    "        if classification == classifications[i]:\n",
    "            k_dict[k] += 1\n",
    "        min_maxed_data.insert(i, current_point)\n",
    "\n",
    "min_maxed_accuracy = [k_dict[k] / len(data_list) for k in k_values]"
   ]
  },
  {
   "cell_type": "code",
   "execution_count": 74,
   "metadata": {},
   "outputs": [],
   "source": [
    "data_by_col = {0: [row[0] for row in data_list], 1: [row[1] for row in data_list], 2: [row[2] for row in data_list], 3: [row[3] for row in data_list]}\n",
    "mean_by_col = {col: np.mean(data_by_col[col]) for col in data_by_col}\n",
    "std_by_col = {col: np.std(data_by_col[col]) for col in data_by_col}"
   ]
  },
  {
   "cell_type": "code",
   "execution_count": 75,
   "metadata": {},
   "outputs": [],
   "source": [
    "zscored_data = [[] for row in data_list]\n",
    "for i in range(len(data_list)):\n",
    "    for j in range(len(data_list[0]) - 1):\n",
    "        zscored_data[i].append((data_by_col[j][i] - mean_by_col[j]) / std_by_col[j])"
   ]
  },
  {
   "cell_type": "code",
   "execution_count": 76,
   "metadata": {},
   "outputs": [],
   "source": [
    "k_dict = {}\n",
    "for k in range(1, 100, 2):\n",
    "    k_dict[k] = 0\n",
    "    k_nearest = KNearestNeighborsClassifier(k)\n",
    "    for i in range(len(zscored_data)):\n",
    "        current_point = zscored_data[i]\n",
    "        zscored_data.pop(i)\n",
    "        k_nearest.fit(zscored_data, classifications)\n",
    "        classification = k_nearest.classify(current_point)\n",
    "        if classification == classifications[i]:\n",
    "            k_dict[k] += 1\n",
    "        zscored_data.insert(i, current_point)\n",
    "\n",
    "zscored_accuracy = [k_dict[k] / len(data_list) for k in k_values]"
   ]
  },
  {
   "cell_type": "code",
   "execution_count": 86,
   "metadata": {},
   "outputs": [
    {
     "data": {
      "text/plain": [
       "<AxesSubplot:xlabel='k', ylabel='zscored accuracy'>"
      ]
     },
     "execution_count": 86,
     "metadata": {},
     "output_type": "execute_result"
    },
    {
     "data": {
      "image/png": "[encoded data removed]",
      "text/plain": [
       "<Figure size 720x720 with 1 Axes>"
      ]
     },
     "metadata": {
      "needs_background": "light"
     },
     "output_type": "display_data"
    }
   ],
   "source": [
    "accuracy_df = pd.DataFrame({'k': k_values, 'unscaled accuracy': unscaled_accuracy, 'simple scaled accuracy': simple_scaled_accuracy, 'min maxed accuracy': min_maxed_accuracy, 'zscored accuracy': zscored_accuracy})\n",
    "unscaled_plot = accuracy_df.plot(x='k', y='unscaled accuracy', label='Unscaled Accuracy', kind='scatter', color='red')\n",
    "simple_scaled_plot = accuracy_df.plot(x='k', y='simple scaled accuracy', label='Simple Scaled Accuracy', ax=unscaled_plot, kind='scatter', color='purple')\n",
    "min_maxed_plot = accuracy_df.plot(x='k', y='min maxed accuracy', label='Min-Maxed Accuracy', ax=simple_scaled_plot, kind='scatter', color='pink')\n",
    "accuracy_df.plot(x='k', y='zscored accuracy', label='Z-scored Accuracy', ax=min_maxed_plot, kind='scatter', color='blue', figsize=(10, 10))"
   ]
  }
 ],
 "metadata": {
  "interpreter": {
   "hash": "8b8334dab9339717f727a1deaf837b322d7a41c20d15cc86be99a8e69ceec8ce"
  },
  "kernelspec": {
   "display_name": "Python 3.8.12 64-bit ('3.8.12')",
   "language": "python",
   "name": "python3"
  },
  "language_info": {
   "codemirror_mode": {
    "name": "ipython",
    "version": 3
   },
   "file_extension": ".py",
   "mimetype": "text/x-python",
   "name": "python",
   "nbconvert_exporter": "python",
   "pygments_lexer": "ipython3",
   "version": "3.8.12"
  },
  "orig_nbformat": 4
 },
 "nbformat": 4,
 "nbformat_minor": 2
}
