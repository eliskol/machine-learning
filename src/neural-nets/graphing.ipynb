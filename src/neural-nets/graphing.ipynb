{
 "cells": [
  {
   "cell_type": "code",
   "execution_count": null,
   "metadata": {},
   "outputs": [],
   "source": [
    "from neural_net import *\n",
    "import pandas as pd"
   ]
  },
  {
   "cell_type": "code",
   "execution_count": null,
   "metadata": {},
   "outputs": [],
   "source": [
    "A_1 = np.matrix([[5], [-5], [5], [-5]])\n",
    "A_2 = np.matrix([[10, 10, 0, 0], [0, 0, 10, 10]])\n",
    "A_3 = np.matrix([10, 10])\n",
    "A = [A_1, A_2, A_3]\n",
    "\n",
    "b_1 = np.matrix([[-0.75], [1.75], [-3.25], [4.25]])\n",
    "b_2 = np.matrix([[-12.5], [-12.5]])\n",
    "b_3 = np.matrix([-2.5])\n",
    "b = [b_1, b_2, b_3]\n",
    "\n",
    "datapoints = [[np.matrix(0), 0], [np.matrix(0.25), 1], [np.matrix(0.5), 0.5], [\n",
    "    np.matrix(0.75), 1], [np.matrix(1), 0]]\n",
    "learning_rate = 0.01"
   ]
  },
  {
   "cell_type": "code",
   "execution_count": null,
   "metadata": {},
   "outputs": [],
   "source": [
    "neural_net = NeuralNet(A, b, datapoints, learning_rate)\n",
    "neural_net.train(100000)"
   ]
  }
 ],
 "metadata": {
  "language_info": {
   "name": "python"
  },
  "orig_nbformat": 4
 },
 "nbformat": 4,
 "nbformat_minor": 2
}
