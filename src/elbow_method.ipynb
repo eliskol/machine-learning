{
 "cells": [
  {
   "cell_type": "code",
   "execution_count": 5,
   "metadata": {},
   "outputs": [],
   "source": [
    "from k_means_clustering import KMeans\n",
    "\n",
    "data = [[0.14, 0.14, 0.28, 0.44],\n",
    "        [0.22, 0.1, 0.45, 0.33],\n",
    "        [0.1, 0.19, 0.25, 0.4],\n",
    "        [0.02, 0.08, 0.43, 0.45],\n",
    "        [0.16, 0.08, 0.35, 0.3],\n",
    "        [0.14, 0.17, 0.31, 0.38],\n",
    "        [0.05, 0.14, 0.35, 0.5],\n",
    "        [0.1, 0.21, 0.28, 0.44],\n",
    "        [0.04, 0.08, 0.35, 0.47],\n",
    "        [0.11, 0.13, 0.28, 0.45],\n",
    "        [0.0, 0.07, 0.34, 0.65],\n",
    "        [0.2, 0.05, 0.4, 0.37],\n",
    "        [0.12, 0.15, 0.33, 0.45],\n",
    "        [0.25, 0.1, 0.3, 0.35],\n",
    "        [0.0, 0.1, 0.4, 0.5],\n",
    "        [0.15, 0.2, 0.3, 0.37],\n",
    "        [0.0, 0.13, 0.4, 0.49],\n",
    "        [0.22, 0.07, 0.4, 0.38],\n",
    "        [0.2, 0.18, 0.3, 0.4]]\n",
    "\n",
    "elbow_dict = {'k': [], 'error': []}\n",
    "\n",
    "for num_k in range(1, 18):\n",
    "    initial_clusters = {i + 1: [] for i in range(num_k)}\n",
    "    for row_index in range(0, len(data)):\n",
    "        initial_clusters[(row_index % num_k) + 1].append(row_index)\n",
    "    # print(initial_clusters)\n",
    "    bruh = KMeans(initial_clusters, data)\n",
    "    bruh.run()\n",
    "    squared_error = 0\n",
    "    for cluster_index in bruh.clusters:\n",
    "        for row_index in bruh.clusters[cluster_index]:\n",
    "            squared_error += bruh.find_distance_from_center(\n",
    "                row_index, cluster_index)\n",
    "    elbow_dict['k'].append(num_k)\n",
    "    elbow_dict['error'].append(squared_error)"
   ]
  },
  {
   "cell_type": "code",
   "execution_count": 6,
   "metadata": {},
   "outputs": [
    {
     "data": {
      "text/plain": [
       "<AxesSubplot:xlabel='k'>"
      ]
     },
     "execution_count": 6,
     "metadata": {},
     "output_type": "execute_result"
    },
    {
     "data": {
      "image/png": "[encoded data removed]",
      "text/plain": [
       "<Figure size 432x288 with 1 Axes>"
      ]
     },
     "metadata": {
      "needs_background": "light"
     },
     "output_type": "display_data"
    }
   ],
   "source": [
    "import pandas as pd\n",
    "elbow_df = pd.DataFrame(elbow_dict)\n",
    "elbow_df.plot(x=\"k\", y=\"error\")"
   ]
  }
 ],
 "metadata": {
  "interpreter": {
   "hash": "31f2aee4e71d21fbe5cf8b01ff0e069b9275f58929596ceb00d14d90e3e16cd6"
  },
  "kernelspec": {
   "display_name": "Python 3.8.10 64-bit",
   "language": "python",
   "name": "python3"
  },
  "language_info": {
   "codemirror_mode": {
    "name": "ipython",
    "version": 3
   },
   "file_extension": ".py",
   "mimetype": "text/x-python",
   "name": "python",
   "nbconvert_exporter": "python",
   "pygments_lexer": "ipython3",
   "version": "3.8.10"
  },
  "orig_nbformat": 4
 },
 "nbformat": 4,
 "nbformat_minor": 2
}
